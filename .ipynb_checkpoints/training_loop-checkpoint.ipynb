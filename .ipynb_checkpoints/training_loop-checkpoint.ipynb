{
 "cells": [
  {
   "cell_type": "code",
   "execution_count": 3,
   "id": "744e20b2",
   "metadata": {},
   "outputs": [],
   "source": [
    "#import libraries\n",
    "import numpy as np\n",
    "import pandas\n",
    "import matplotlib.pyplot as plt\n",
    "\n",
    "import tensorflow as tf\n",
    "import tensorflow_probability as tfp\n",
    "\n",
    "from tensorflow.keras.models import Sequential\n",
    "from tensorflow.keras import layers\n",
    "from tensorflow.keras.losses import SparseCategoricalCrossentropy\n",
    "from tensorflow.keras.optimizers import Adam\n",
    "from tensorflow.keras.metrics import Accuracy\n",
    "\n",
    "tfd = tfp.distributions\n",
    "tfpl = tfp.layers\n",
    "\n",
    "from sklearn.preprocessing import MinMaxScaler\n",
    "from collections import deque\n",
    "import random\n",
    "import sys\n",
    "\n",
    "from tictactoe.game import TicTacToe\n",
    "import os\n"
   ]
  },
  {
   "cell_type": "code",
   "execution_count": 6,
   "id": "8c2adc9d",
   "metadata": {},
   "outputs": [],
   "source": [
    "#import models\n",
    "from models import RecurrentNetwork as rn\n",
    "\n",
    "#initialize model\n",
    "model = rn.RecurrentNN"
   ]
  },
  {
   "cell_type": "code",
   "execution_count": 8,
   "id": "0406ae03",
   "metadata": {},
   "outputs": [],
   "source": [
    "model.compile(loss = 'mean_squared_error', optimizer = Adam())\n",
    "model.build(input_shape = (None, 5, 6, 3))"
   ]
  },
  {
   "cell_type": "code",
   "execution_count": 11,
   "id": "8df36f09",
   "metadata": {},
   "outputs": [
    {
     "name": "stdout",
     "output_type": "stream",
     "text": [
      "Model: \"sequential\"\n",
      "_________________________________________________________________\n",
      "Layer (type)                 Output Shape              Param #   \n",
      "=================================================================\n",
      "conv_block (ConvBlock)       (None, 5, 6, 64)          2048      \n",
      "_________________________________________________________________\n",
      "residual_block (ResidualBloc (None, 5, 6, 64)          74368     \n",
      "_________________________________________________________________\n",
      "residual_block_1 (ResidualBl (None, 5, 6, 64)          74368     \n",
      "_________________________________________________________________\n",
      "residual_block_2 (ResidualBl (None, 5, 6, 64)          74368     \n",
      "_________________________________________________________________\n",
      "residual_block_3 (ResidualBl (None, 5, 6, 64)          74368     \n",
      "_________________________________________________________________\n",
      "flatten (Flatten)            (None, 1920)              0         \n",
      "_________________________________________________________________\n",
      "dense (Dense)                (None, 6)                 11526     \n",
      "=================================================================\n",
      "Total params: 311,046\n",
      "Trainable params: 309,894\n",
      "Non-trainable params: 1,152\n",
      "_________________________________________________________________\n"
     ]
    }
   ],
   "source": [
    "model.summary()"
   ]
  },
  {
   "cell_type": "code",
   "execution_count": null,
   "id": "a9a465db",
   "metadata": {},
   "outputs": [],
   "source": []
  }
 ],
 "metadata": {
  "kernelspec": {
   "display_name": "Python 3",
   "language": "python",
   "name": "python3"
  },
  "language_info": {
   "codemirror_mode": {
    "name": "ipython",
    "version": 3
   },
   "file_extension": ".py",
   "mimetype": "text/x-python",
   "name": "python",
   "nbconvert_exporter": "python",
   "pygments_lexer": "ipython3",
   "version": "3.8.8"
  }
 },
 "nbformat": 4,
 "nbformat_minor": 5
}
